{
 "cells": [
  {
   "cell_type": "code",
   "execution_count": null,
   "id": "cb3a7a73",
   "metadata": {},
   "outputs": [],
   "source": [
    "#zoo.py\n",
    "def hours():\n",
    "    print(\"Open 9-5 daily\")"
   ]
  },
  {
   "cell_type": "markdown",
   "id": "bf057b94",
   "metadata": {},
   "source": [
    "The above script must be placed into a separate .py file and put into the same directory as this file for sections 11.1 and 11.2 to function properly."
   ]
  },
  {
   "cell_type": "code",
   "execution_count": null,
   "id": "5d8b1d58",
   "metadata": {},
   "outputs": [],
   "source": [
    "#11.1\n",
    "import zoo\n",
    "\n",
    "zoo.hours()"
   ]
  },
  {
   "cell_type": "code",
   "execution_count": null,
   "id": "0af2616b",
   "metadata": {},
   "outputs": [],
   "source": [
    "#11.2\n",
    "import zoo as menagerie\n",
    "\n",
    "menagerie.hours()"
   ]
  },
  {
   "cell_type": "code",
   "execution_count": null,
   "id": "ca2b9d42",
   "metadata": {},
   "outputs": [],
   "source": [
    "#16.3\n",
    "import csv\n",
    "\n",
    "books = [\n",
    "    [\"title\",\"author\",\"year\"],\n",
    "    [\"The Weirdstone of Brisingamen\",\"Alan Garner\",1960],\n",
    "    [\"Perdido Street Station\",\"China Miéville\",2000],\n",
    "    [\"Thud!\",\"Terry Pratchett\",2005],\n",
    "    [\"The Spellman Files\",\"Lisa Lutz\",2007],\n",
    "    [\"Small Gods\",\"Terry Pratchett\",1992],\n",
    "    ]\n",
    "\n",
    "with open(\"books2\", \"wt\") as fout:\n",
    "    cvsout = csv.writer(fout)\n",
    "    cvsout.writerows(books)"
   ]
  },
  {
   "cell_type": "code",
   "execution_count": null,
   "id": "5c206463",
   "metadata": {},
   "outputs": [],
   "source": [
    "#16.4\n",
    "import sqlite3\n",
    "\n",
    "conn = sqlite3.connect('books.db')\n",
    "curs = conn.cursor()\n",
    "curs.execute('''CREATE TABLE books\n",
    "    (title VARCHAR(50) PRIMARY KEY,\n",
    "     author VARCHAR(50),\n",
    "     year INT)''')"
   ]
  },
  {
   "cell_type": "code",
   "execution_count": null,
   "id": "5855978c",
   "metadata": {},
   "outputs": [],
   "source": [
    "#16.5\n",
    "conn = sqlite3.connect('books.db')\n",
    "curs = conn.cursor()\n",
    "ins = 'INSERT INTO books (title, author, year) VALUES (?, ?, ?)'\n",
    "\n",
    "with open(\"books2\", \"rt\") as fin:\n",
    "    cin = csv.DictReader(fin)\n",
    "    books = [row for row in cin]\n",
    "\n",
    "for book in books:\n",
    "    print(book)\n",
    "    title = book[\"title\"]\n",
    "    author = book[\"author\"]\n",
    "    year = book[\"year\"]\n",
    "    curs.execute(ins, (title, author, year))\n",
    "    conn.commit()"
   ]
  },
  {
   "cell_type": "code",
   "execution_count": null,
   "id": "b8fe8016",
   "metadata": {},
   "outputs": [],
   "source": [
    "#16.6\n",
    "curs.execute('SELECT title FROM books ORDER BY title')\n",
    "rows = curs.fetchall()\n",
    "\n",
    "print(rows)\n",
    "print(\"\")\n",
    "\n",
    "for row in rows:\n",
    "    print(f\"Title: {row[0]}\")"
   ]
  },
  {
   "cell_type": "code",
   "execution_count": null,
   "id": "78865436",
   "metadata": {},
   "outputs": [],
   "source": [
    "#16.7\n",
    "curs.execute('SELECT * FROM books ORDER BY year')\n",
    "rows = curs.fetchall()\n",
    "\n",
    "for row in rows:\n",
    "    print(f\"Title: {row[0]}\")\n",
    "    print(f\"Author: {row[1]}\")\n",
    "    print(f\"Year: {row[2]}\")\n",
    "    print(\"\")"
   ]
  },
  {
   "cell_type": "code",
   "execution_count": null,
   "id": "d063a648",
   "metadata": {},
   "outputs": [],
   "source": [
    "import sqlalchemy\n",
    "from sqlalchemy import text\n",
    "from sqlalchemy.engine import Engine\n",
    "engine = sqlalchemy.create_engine('sqlite:///books.db')\n",
    "\n",
    "with engine.connect() as conn:\n",
    "    rows = conn.execute(text('SELECT * FROM books ORDER BY title asc'))\n",
    "    rows = rows.fetchall()\n",
    "    for row in rows:\n",
    "        print(f\"Title: {row[0]}\")\n",
    "\n"
   ]
  },
  {
   "cell_type": "code",
   "execution_count": null,
   "id": "a1dc348f",
   "metadata": {},
   "outputs": [],
   "source": [
    "#16.End\n",
    "conn.close"
   ]
  },
  {
   "cell_type": "code",
   "execution_count": null,
   "id": "9d7ccea0",
   "metadata": {},
   "outputs": [],
   "source": []
  }
 ],
 "metadata": {
  "kernelspec": {
   "display_name": "Python 3 (ipykernel)",
   "language": "python",
   "name": "python3"
  },
  "language_info": {
   "codemirror_mode": {
    "name": "ipython",
    "version": 3
   },
   "file_extension": ".py",
   "mimetype": "text/x-python",
   "name": "python",
   "nbconvert_exporter": "python",
   "pygments_lexer": "ipython3",
   "version": "3.9.13"
  }
 },
 "nbformat": 4,
 "nbformat_minor": 5
}
