{
 "cells": [
  {
   "cell_type": "code",
   "execution_count": null,
   "id": "855258f5",
   "metadata": {},
   "outputs": [],
   "source": [
    "#zoo.py\n",
    "def hours():\n",
    "    print(\"Open 9-5 daily\")"
   ]
  },
  {
   "cell_type": "markdown",
   "id": "4ca92f39",
   "metadata": {},
   "source": [
    "The above script must be placed into a separate .py file and put into the same directory as this file for sections 11.1 and 11.2 to function properly."
   ]
  },
  {
   "cell_type": "code",
   "execution_count": null,
   "id": "00f034de",
   "metadata": {},
   "outputs": [],
   "source": [
    "#11.1\n",
    "import zoo\n",
    "\n",
    "zoo.hours()"
   ]
  },
  {
   "cell_type": "code",
   "execution_count": null,
   "id": "eca608fd",
   "metadata": {},
   "outputs": [],
   "source": [
    "#11.2\n",
    "import zoo as menagerie\n",
    "\n",
    "menagerie.hours()"
   ]
  },
  {
   "cell_type": "code",
   "execution_count": null,
   "id": "3f1fc0c5",
   "metadata": {},
   "outputs": [],
   "source": [
    "#16.3\n",
    "import csv\n",
    "\n",
    "books = [\n",
    "    [\"title\",\"author\",\"year\"],\n",
    "    [\"The Weirdstone of Brisingamen\",\"Alan Garner\",1960],\n",
    "    [\"Perdido Street Station\",\"China Miéville\",2000],\n",
    "    [\"Thud!\",\"Terry Pratchett\",2005],\n",
    "    [\"The Spellman Files\",\"Lisa Lutz\",2007],\n",
    "    [\"Small Gods\",\"Terry Pratchett\",1992],\n",
    "    ]\n",
    "\n",
    "with open(\"books2\", \"wt\") as fout:\n",
    "    cvsout = csv.writer(fout)\n",
    "    cvsout.writerows(books)"
   ]
  },
  {
   "cell_type": "code",
   "execution_count": null,
   "id": "8a8aee02",
   "metadata": {},
   "outputs": [],
   "source": [
    "#16.4\n",
    "import sqlite3\n",
    "\n",
    "conn = sqlite3.connect('books.db')\n",
    "curs = conn.cursor()\n",
    "curs.execute('''CREATE TABLE books\n",
    "    (title VARCHAR(50) PRIMARY KEY,\n",
    "     author VARCHAR(50),\n",
    "     year INT)''')\n",
    "\n",
    "conn.close"
   ]
  },
  {
   "cell_type": "code",
   "execution_count": null,
   "id": "3c95beec",
   "metadata": {},
   "outputs": [],
   "source": [
    "#16.5\n",
    "import csv\n",
    "import sqlite3\n",
    "\n",
    "conn = sqlite3.connect('books.db')\n",
    "curs = conn.cursor()\n",
    "ins = 'INSERT INTO books (title, author, year) VALUES (?, ?, ?)'\n",
    "\n",
    "with open(\"books2\", \"rt\") as fin:\n",
    "    cin = csv.DictReader(fin)\n",
    "    books = [row for row in cin]\n",
    "\n",
    "for book in books:\n",
    "    print(book)\n",
    "    title = book[\"title\"]\n",
    "    author = book[\"author\"]\n",
    "    year = book[\"year\"]\n",
    "    curs.execute(ins, (title, author, year))\n",
    "    conn.commit()\n",
    "\n",
    "conn.close"
   ]
  },
  {
   "cell_type": "code",
   "execution_count": null,
   "id": "33a6b3e4",
   "metadata": {},
   "outputs": [],
   "source": [
    "#16.6\n",
    "import sqlite3\n",
    "\n",
    "conn = sqlite3.connect('books.db')\n",
    "curs = conn.cursor()\n",
    "curs.execute('SELECT title FROM books ORDER BY title')\n",
    "rows = curs.fetchall()\n",
    "\n",
    "print(rows)\n",
    "print(\"\")\n",
    "\n",
    "for row in rows:\n",
    "    print(f\"Title: {row[0]}\")\n",
    "\n",
    "conn.close"
   ]
  },
  {
   "cell_type": "code",
   "execution_count": null,
   "id": "92f814ca",
   "metadata": {},
   "outputs": [],
   "source": [
    "#16.7\n",
    "import sqlite3\n",
    "\n",
    "conn = sqlite3.connect('books.db')\n",
    "curs = conn.cursor()\n",
    "curs.execute('SELECT * FROM books ORDER BY year')\n",
    "rows = curs.fetchall()\n",
    "\n",
    "for row in rows:\n",
    "    print(f\"Title: {row[0]}\")\n",
    "    print(f\"Author: {row[1]}\")\n",
    "    print(f\"Year: {row[2]}\")\n",
    "    print(\"\")\n",
    "\n",
    "conn.close"
   ]
  },
  {
   "cell_type": "code",
   "execution_count": null,
   "id": "fd652e62",
   "metadata": {},
   "outputs": [],
   "source": [
    "#16.8\n",
    "import sqlalchemy\n",
    "from sqlalchemy import text\n",
    "from sqlalchemy.engine import Engine\n",
    "engine = sqlalchemy.create_engine('sqlite:///books.db')\n",
    "\n",
    "with engine.connect() as conn:\n",
    "    rows = conn.execute(text('SELECT * FROM books ORDER BY title asc'))\n",
    "    rows = rows.fetchall()\n",
    "    for row in rows:\n",
    "        print(f\"Title: {row[0]}\")\n",
    "\n",
    "conn.close"
   ]
  },
  {
   "cell_type": "code",
   "execution_count": null,
   "id": "7b1a42dc",
   "metadata": {},
   "outputs": [],
   "source": []
  }
 ],
 "metadata": {
  "kernelspec": {
   "display_name": "Python 3 (ipykernel)",
   "language": "python",
   "name": "python3"
  },
  "language_info": {
   "codemirror_mode": {
    "name": "ipython",
    "version": 3
   },
   "file_extension": ".py",
   "mimetype": "text/x-python",
   "name": "python",
   "nbconvert_exporter": "python",
   "pygments_lexer": "ipython3",
   "version": "3.9.13"
  }
 },
 "nbformat": 4,
 "nbformat_minor": 5
}
